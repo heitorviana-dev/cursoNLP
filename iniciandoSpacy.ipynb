{
  "nbformat": 4,
  "nbformat_minor": 0,
  "metadata": {
    "colab": {
      "provenance": [],
      "collapsed_sections": [
        "sjaK41dEZOWd"
      ],
      "authorship_tag": "ABX9TyO2W5hyr+sLhWQAAPpTM6pV",
      "include_colab_link": true
    },
    "kernelspec": {
      "name": "python3",
      "display_name": "Python 3"
    },
    "language_info": {
      "name": "python"
    }
  },
  "cells": [
    {
      "cell_type": "markdown",
      "metadata": {
        "id": "view-in-github",
        "colab_type": "text"
      },
      "source": [
        "<a href=\"https://colab.research.google.com/github/heitorviana-dev/cursoNLP/blob/main/iniciandoSpacy.ipynb\" target=\"_parent\"><img src=\"https://colab.research.google.com/assets/colab-badge.svg\" alt=\"Open In Colab\"/></a>"
      ]
    },
    {
      "cell_type": "markdown",
      "source": [
        "## Preparando o Ambiente:"
      ],
      "metadata": {
        "id": "sjaK41dEZOWd"
      }
    },
    {
      "cell_type": "markdown",
      "source": [
        "### Fazendo a instalação do spacy:"
      ],
      "metadata": {
        "id": "PxxpkMKSb5NT"
      }
    },
    {
      "cell_type": "code",
      "execution_count": null,
      "metadata": {
        "collapsed": true,
        "id": "qINtO9vZYzaK"
      },
      "outputs": [],
      "source": [
        "## Fazendo a instalação do spacy\n",
        "!pip install -U spacy"
      ]
    },
    {
      "cell_type": "markdown",
      "source": [
        "### Fazendo o download do modelo grande:"
      ],
      "metadata": {
        "id": "16YouKxGb8sQ"
      }
    },
    {
      "cell_type": "code",
      "source": [
        "## Fazendo o download do modelo grande\n",
        "!python -m spacy download 'pt_core_news_lg'"
      ],
      "metadata": {
        "id": "mNGHhjhnZTmY"
      },
      "execution_count": null,
      "outputs": []
    },
    {
      "cell_type": "markdown",
      "source": [
        "### Importando a biblioteca spacy:"
      ],
      "metadata": {
        "id": "wd_eR0z1b9Y3"
      }
    },
    {
      "cell_type": "code",
      "source": [
        "## Carregando a biblioteca\n",
        "import spacy"
      ],
      "metadata": {
        "id": "Mg2xE4lsZ-Ym"
      },
      "execution_count": null,
      "outputs": []
    },
    {
      "cell_type": "markdown",
      "source": [
        "### Carregando modelo instalado acima:"
      ],
      "metadata": {
        "id": "x7aLDWK_b-AO"
      }
    },
    {
      "cell_type": "code",
      "source": [
        "## Carregando o modelo\n",
        "nlp = spacy.load('pt_core_news_lg')"
      ],
      "metadata": {
        "id": "UvRRXrfLaNwk"
      },
      "execution_count": null,
      "outputs": []
    },
    {
      "cell_type": "markdown",
      "source": [
        "### Exibindo as técnicas de pré-processamento padrão do método nlp:"
      ],
      "metadata": {
        "id": "9VApvZZTb-Uw"
      }
    },
    {
      "cell_type": "code",
      "source": [
        "print(nlp.pipe_names)\n",
        "## A pipeline do nlp é composto pelas seguintes técnicas"
      ],
      "metadata": {
        "colab": {
          "base_uri": "https://localhost:8080/"
        },
        "id": "dITmjXhkaZlg",
        "outputId": "2744934b-a273-404b-f67f-b56892ab0fee"
      },
      "execution_count": null,
      "outputs": [
        {
          "output_type": "stream",
          "name": "stdout",
          "text": [
            "['tok2vec', 'morphologizer', 'parser', 'lemmatizer', 'attribute_ruler', 'ner']\n"
          ]
        }
      ]
    },
    {
      "cell_type": "markdown",
      "source": [
        "### Aplicando o método nlp a um texto e gerando um doc:"
      ],
      "metadata": {
        "id": "5FbYzEMgb-3t"
      }
    },
    {
      "cell_type": "code",
      "source": [
        "## Criando o doc\n",
        "document = nlp('A resistência do bitcoin está na casa dos 93000 a 91000. E seu suporte está nos 85000.')"
      ],
      "metadata": {
        "id": "CJYKeLqza_BU"
      },
      "execution_count": null,
      "outputs": []
    },
    {
      "cell_type": "markdown",
      "source": [
        "### Exibindo o tamanho do vocabulário:"
      ],
      "metadata": {
        "id": "zepQdcmPb_Zs"
      }
    },
    {
      "cell_type": "code",
      "source": [
        "## Tamanho do vocabulário\n",
        "len(document.vocab)"
      ],
      "metadata": {
        "colab": {
          "base_uri": "https://localhost:8080/"
        },
        "id": "jhs1fW6fbbJG",
        "outputId": "a1333784-da8c-49e1-c09a-e727a84c6b32"
      },
      "execution_count": null,
      "outputs": [
        {
          "output_type": "execute_result",
          "data": {
            "text/plain": [
              "370"
            ]
          },
          "metadata": {},
          "execution_count": 14
        }
      ]
    },
    {
      "cell_type": "markdown",
      "source": [
        "### Exibindo o tipo da variável document:"
      ],
      "metadata": {
        "id": "XRJVnV4Db_ys"
      }
    },
    {
      "cell_type": "code",
      "source": [
        "## A variável doc é do tipo class\n",
        "print(type(document))"
      ],
      "metadata": {
        "colab": {
          "base_uri": "https://localhost:8080/"
        },
        "id": "ZDXieSVsbhdl",
        "outputId": "ba2ad795-8909-4244-f274-e4707d95b2e2"
      },
      "execution_count": null,
      "outputs": [
        {
          "output_type": "stream",
          "name": "stdout",
          "text": [
            "<class 'spacy.tokens.doc.Doc'>\n"
          ]
        }
      ]
    },
    {
      "cell_type": "markdown",
      "source": [
        "## Trabalhando com Tokens:"
      ],
      "metadata": {
        "id": "U0SoeQ6FrYg7"
      }
    },
    {
      "cell_type": "markdown",
      "source": [
        "### Exibindo os tokens gerados pelo método nlp:"
      ],
      "metadata": {
        "id": "dCUYApqDhkAQ"
      }
    },
    {
      "cell_type": "code",
      "source": [
        "for token in document:\n",
        "  print(token.text)"
      ],
      "metadata": {
        "id": "Vg4xDS8OhnXx"
      },
      "execution_count": null,
      "outputs": []
    },
    {
      "cell_type": "markdown",
      "source": [
        "### Gerando um span:"
      ],
      "metadata": {
        "id": "5lX2IuZ6rKJJ"
      }
    },
    {
      "cell_type": "code",
      "source": [
        "print(document[8:11]) ## Retorna os tokens 8 a 10, gerando um span"
      ],
      "metadata": {
        "id": "9haTHuoKk55y"
      },
      "execution_count": null,
      "outputs": []
    },
    {
      "cell_type": "markdown",
      "source": [
        "### Analisando os atributos de um token:"
      ],
      "metadata": {
        "id": "puBKw3rlrNv_"
      }
    },
    {
      "cell_type": "code",
      "source": [
        "## Vamos agora analisar os atributos de um token\n",
        "\n",
        "stopWords = []\n",
        "alfaNumerico = []\n",
        "maiusculo = []\n",
        "pontuacao = []\n",
        "numero = []\n",
        "sentencaInicial = []\n",
        "\n",
        "for token in document:\n",
        "  if token.is_stop: stopWords.append(token.text)\n",
        "  if token.is_alpha: alfaNumerico.append(token.text)\n",
        "  if token.is_upper: maiusculo.append(token.text)\n",
        "  if token.is_punct: pontuacao.append(token.text)\n",
        "  if token.like_num: numero.append(token.text)\n",
        "  if token.is_sent_start: sentencaInicial.append(token.text)\n",
        "\n",
        "print('Tokens: ', [token.text for token in document ])\n",
        "print('Stop Words: ', stopWords)\n",
        "print('Alfa Numérico: ', alfaNumerico)\n",
        "print('Maiúsculo: ', maiusculo)\n",
        "print('Pontuação: ', pontuacao)\n",
        "print('Números: ', numero)\n",
        "print('Sentença Inicial: ', sentencaInicial)"
      ],
      "metadata": {
        "id": "QzfdRjjgmRb6"
      },
      "execution_count": null,
      "outputs": []
    },
    {
      "cell_type": "markdown",
      "source": [
        "### Analisando o formato de um token:"
      ],
      "metadata": {
        "id": "xHnzlHVdrSVa"
      }
    },
    {
      "cell_type": "code",
      "source": [
        "print('Tokens: ', [token.text for token in document ])\n",
        "print('Formato: ', [token.shape_ for token in document ])"
      ],
      "metadata": {
        "id": "DAjZLJ34qHbW"
      },
      "execution_count": null,
      "outputs": []
    },
    {
      "cell_type": "markdown",
      "source": [
        "## POS-Tagging e Dependências:"
      ],
      "metadata": {
        "id": "SPbsMsF8vVu6"
      }
    },
    {
      "cell_type": "markdown",
      "source": [
        "### Exibindo informações dos tokens:"
      ],
      "metadata": {
        "id": "ettAJ_VWvaTA"
      }
    },
    {
      "cell_type": "code",
      "source": [
        "for token in document:\n",
        "  print(token.text, ' - ', token.pos_, ' - ', token.dep_, ' - ', token.lemma_, ' - ', token.shape_)"
      ],
      "metadata": {
        "colab": {
          "base_uri": "https://localhost:8080/"
        },
        "id": "IXX3KxJuvg_R",
        "outputId": "3cf1ba41-18e4-4393-9830-4780e69ac4b6"
      },
      "execution_count": null,
      "outputs": [
        {
          "output_type": "stream",
          "name": "stdout",
          "text": [
            "A  -  DET  -  det  -  o  -  X\n",
            "resistência  -  NOUN  -  nsubj  -  resistência  -  xxxx\n",
            "do  -  ADP  -  case  -  de o  -  xx\n",
            "bitcoin  -  PROPN  -  nmod  -  Bitcoin  -  xxxx\n",
            "está  -  AUX  -  cop  -  estar  -  xxxx\n",
            "na  -  ADP  -  case  -  em o  -  xx\n",
            "casa  -  NOUN  -  ROOT  -  casa  -  xxxx\n",
            "dos  -  ADP  -  case  -  de o  -  xxx\n",
            "93000  -  NUM  -  nmod  -  93000  -  dddd\n",
            "a  -  ADP  -  case  -  a  -  x\n",
            "91000  -  NUM  -  nmod  -  91000  -  dddd\n",
            ".  -  PUNCT  -  punct  -  .  -  .\n",
            "E  -  CCONJ  -  cc  -  e  -  X\n",
            "seu  -  DET  -  det  -  seu  -  xxx\n",
            "suporte  -  NOUN  -  nsubj  -  suporte  -  xxxx\n",
            "está  -  AUX  -  cop  -  estar  -  xxxx\n",
            "nos  -  ADP  -  case  -  em o  -  xxx\n",
            "85000  -  NUM  -  ROOT  -  85000  -  dddd\n",
            ".  -  PUNCT  -  punct  -  .  -  .\n"
          ]
        }
      ]
    },
    {
      "cell_type": "markdown",
      "source": [
        "### Exibindo a morfologia do token:\n",
        "\n",
        "- A morfologia nos mostra mais informações sobre a palavra armazenada no token como a flexão, gênero, se está no singular ou no plural."
      ],
      "metadata": {
        "id": "uW_2sR-Eyy8S"
      }
    },
    {
      "cell_type": "code",
      "source": [
        "for token in document:\n",
        "  print(token.text, ' - ', token.morph)"
      ],
      "metadata": {
        "colab": {
          "base_uri": "https://localhost:8080/"
        },
        "id": "02CJ7wQqy2wf",
        "outputId": "2e95f0be-589c-4041-8b4e-d45b7d5291eb"
      },
      "execution_count": 44,
      "outputs": [
        {
          "output_type": "stream",
          "name": "stdout",
          "text": [
            "A  -  Definite=Def|Gender=Fem|Number=Sing|PronType=Art\n",
            "resistência  -  Gender=Fem|Number=Sing\n",
            "do  -  Definite=Def|Gender=Masc|Number=Sing|PronType=Art\n",
            "bitcoin  -  Gender=Masc|Number=Sing\n",
            "está  -  Mood=Ind|Number=Sing|Person=3|Tense=Pres|VerbForm=Fin\n",
            "na  -  Definite=Def|Gender=Fem|Number=Sing|PronType=Art\n",
            "casa  -  Gender=Fem|Number=Sing\n",
            "dos  -  Definite=Def|Gender=Masc|Number=Plur|PronType=Art\n",
            "93000  -  NumType=Card\n",
            "a  -  \n",
            "91000  -  NumType=Card\n",
            ".  -  \n",
            "E  -  \n",
            "seu  -  Gender=Masc|Number=Sing|PronType=Prs\n",
            "suporte  -  Gender=Masc|Number=Sing\n",
            "está  -  Mood=Ind|Number=Sing|Person=3|Tense=Pres|VerbForm=Fin\n",
            "nos  -  Definite=Def|Gender=Masc|Number=Plur|PronType=Art\n",
            "85000  -  NumType=Card\n",
            ".  -  \n"
          ]
        }
      ]
    },
    {
      "cell_type": "markdown",
      "source": [
        "### Exibindo a tag do token:\n",
        "\n",
        "- A tag seria uma forma mais refinada do pos-tagging.\n",
        "- Ela fornece a etiqueta morfosintática detalhada da palavra, e não apenas a classe gramatical como no pos-tagging."
      ],
      "metadata": {
        "id": "MLL1ywYCztJW"
      }
    },
    {
      "cell_type": "code",
      "source": [
        "for token in document:\n",
        "  print(token.text, ' - ', token.tag_)"
      ],
      "metadata": {
        "colab": {
          "base_uri": "https://localhost:8080/"
        },
        "id": "OdPGaWhzzwzA",
        "outputId": "6441f7a1-7ee5-43a3-cbd2-3456949c5add"
      },
      "execution_count": 45,
      "outputs": [
        {
          "output_type": "stream",
          "name": "stdout",
          "text": [
            "A  -  DET\n",
            "resistência  -  NOUN\n",
            "do  -  ADP\n",
            "bitcoin  -  PROPN\n",
            "está  -  AUX\n",
            "na  -  ADP\n",
            "casa  -  NOUN\n",
            "dos  -  ADP\n",
            "93000  -  NUM\n",
            "a  -  ADP\n",
            "91000  -  NUM\n",
            ".  -  PUNCT\n",
            "E  -  CCONJ\n",
            "seu  -  DET\n",
            "suporte  -  NOUN\n",
            "está  -  AUX\n",
            "nos  -  ADP\n",
            "85000  -  NUM\n",
            ".  -  PUNCT\n"
          ]
        }
      ]
    }
  ]
}